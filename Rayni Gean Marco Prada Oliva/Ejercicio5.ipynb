{
 "cells": [
  {
   "cell_type": "markdown",
   "metadata": {},
   "source": [
    "5.- Las ventas de la empresa EMAPA durante los ultimos 10 trimestres son las siguientes:"
   ]
  },
  {
   "cell_type": "markdown",
   "metadata": {},
   "source": [
    "<center>\n",
    "Trimestre  [1,2,3,4,5,6,7,8,9,10,11,12]\n",
    "<center>\n",
    "ventas  [133,292,283,283,302,400,505,608,667,783,785,799]"
   ]
  },
  {
   "cell_type": "markdown",
   "metadata": {},
   "source": [
    "* A) Ecuacion de la recta de mejor ajuste\n",
    "* B) Diagrama de dispersion\n",
    "* C) Pronosticar la demanda de los trimestres 13, 14 y 15 a traves de un analisis de regresion lineal"
   ]
  },
  {
   "cell_type": "markdown",
   "metadata": {},
   "source": [
    "A) Ecuacion de la recta de mejor ajuste"
   ]
  },
  {
   "cell_type": "markdown",
   "metadata": {},
   "source": [
    "para sacar la recta se necesita tener los datos del intercepto a y la pendiente b\n",
    "\\begin{equation}\n",
    "b =\n",
    "\\frac{\\sum_{i=1}^n x_{i} y_{i}- \\hat n \\sum_{i=1}^n x y}{(\\sum_{i=1}^n x_{i}^2 -\\hat n \\sum_{i=1}^n x^2}\\end{equation}\n",
    "\n",
    "\\begin{equation}\n",
    "a = promY-b*promX\n",
    "\\end{equation}\n",
    "Ecuacion de la Recta para mejor ajuste\n",
    "\\begin{equation}\n",
    "y = a + bX\n",
    "\\end{equation}"
   ]
  },
  {
   "cell_type": "markdown",
   "metadata": {},
   "source": [
    "B) Diagrama de dispersion"
   ]
  },
  {
   "cell_type": "code",
   "execution_count": 2,
   "metadata": {},
   "outputs": [
    {
     "name": "stdout",
     "output_type": "stream",
     "text": [
      "La pendiente es 63.65734265734266\n",
      "El intercepto es 72.89393939393938\n"
     ]
    },
    {
     "data": {
      "image/png": "[encoded data removed]",
      "text/plain": [
       "<Figure size 432x288 with 1 Axes>"
      ]
     },
     "metadata": {
      "needs_background": "light"
     },
     "output_type": "display_data"
    }
   ],
   "source": [
    "import numpy as np\n",
    "import matplotlib.pyplot as plt\n",
    "x=[1,2,3,4,5,6,7,8,9,10,11,12]\n",
    "y=[133,292,283,283,302,400,505,608,667,783,785,799]\n",
    "n=len(x)\n",
    "nu=len(y)\n",
    "x=np.array(x)\n",
    "y=np.array(y)\n",
    "sumx=sum(x)\n",
    "sumy=sum(y)\n",
    "promx=sumx/n\n",
    "promy=sumy/nu\n",
    "sumx2=sum(x*x)\n",
    "sumxy=sum(x*y)\n",
    "b=(sumx*sumy-n*sumxy)/(sumx**2-n*sumx2)\n",
    "a=promy-b*promx\n",
    "print(\"La pendiente es\" ,b)\n",
    "print(\"El intercepto es\",a)\n",
    "\n",
    "plt.plot(x,y,'o', label= 'datos')\n",
    "plt.plot(x, a+b*x, label= \"ajuste\")\n",
    "plt.xlabel('Trimestre')\n",
    "plt.ylabel('ventas')\n",
    "plt.grid()\n",
    "plt.legend()\n",
    "plt.show()"
   ]
  },
  {
   "cell_type": "markdown",
   "metadata": {},
   "source": [
    "C) Pronosticar la demanda de los trimestres 13 14 y 15 a traves de un analisis de regresion lineal"
   ]
  },
  {
   "cell_type": "code",
   "execution_count": 14,
   "metadata": {},
   "outputs": [
    {
     "name": "stdout",
     "output_type": "stream",
     "text": [
      "Datos para el pronostico mediante regresion lineal\n",
      "trimestre 13  900.439393939394\n",
      "trimestre 14  964.0967365967366\n",
      "trimestre 15  1027.7540792540794\n"
     ]
    }
   ],
   "source": [
    "print(\"Datos para el pronostico mediante regresion lineal\")\n",
    "print(\"trimestre 13 \", a+b*13)\n",
    "print(\"trimestre 14 \", a+b*14)\n",
    "print(\"trimestre 15 \", a+b*15)"
   ]
  },
  {
   "cell_type": "code",
   "execution_count": 24,
   "metadata": {},
   "outputs": [
    {
     "name": "stdout",
     "output_type": "stream",
     "text": [
      "TRIMESTRE 13 14 Y 15\n",
      "La pendiente es B : 63.628571428571426\n",
      "El intercepto es A : 73.03809523809531\n"
     ]
    },
    {
     "data": {
      "image/png": "[encoded data removed]",
      "text/plain": [
       "<Figure size 432x288 with 1 Axes>"
      ]
     },
     "metadata": {
      "needs_background": "light"
     },
     "output_type": "display_data"
    }
   ],
   "source": [
    "print(\"TRIMESTRE 13 14 Y 15\")\n",
    "import numpy as np\n",
    "import matplotlib.pyplot as plt\n",
    "X=[1,2,3,4,5,6,7,8,9,10,11,12,13,14,15]\n",
    "Y=[133,292,283,283,302,400,505,608,667,783,785,799,900,964,1027]\n",
    "N=len(X)\n",
    "NU=len(Y)\n",
    "X=np.array(X)\n",
    "Y=np.array(Y)\n",
    "SUMX=sum(X)\n",
    "SUMY=sum(Y)\n",
    "PROMX=SUMX/N\n",
    "PROMY=SUMY/NU\n",
    "SUMX2=sum(X*X)\n",
    "SUMXY=sum(X*Y)\n",
    "Q=(SUMX*SUMY-N*SUMXY)/(SUMX**2-N*SUMX2)\n",
    "W=PROMY-Q*PROMX\n",
    "print(\"La pendiente es B :\" ,Q)\n",
    "print(\"El intercepto es A :\",W)\n",
    "\n",
    "plt.plot(X,Y, 'o', label= 'datos')\n",
    "plt.plot(X, W+Q*X, label= \"ajuste\")\n",
    "plt.xlabel('Trimestre')\n",
    "plt.ylabel('ventas')\n",
    "plt.grid()\n",
    "plt.legend()\n",
    "plt.show()"
   ]
  },
  {
   "cell_type": "markdown",
   "metadata": {},
   "source": [
    "se pude ver claramente que habra una subida de ventas por cada trimestre"
   ]
  },
  {
   "cell_type": "code",
   "execution_count": null,
   "metadata": {},
   "outputs": [],
   "source": []
  },
  {
   "cell_type": "code",
   "execution_count": null,
   "metadata": {},
   "outputs": [],
   "source": []
  },
  {
   "cell_type": "code",
   "execution_count": null,
   "metadata": {},
   "outputs": [],
   "source": []
  }
 ],
 "metadata": {
  "kernelspec": {
   "display_name": "Python 3",
   "language": "python",
   "name": "python3"
  },
  "language_info": {
   "codemirror_mode": {
    "name": "ipython",
    "version": 3
   },
   "file_extension": ".py",
   "mimetype": "text/x-python",
   "name": "python",
   "nbconvert_exporter": "python",
   "pygments_lexer": "ipython3",
   "version": "3.7.4"
  }
 },
 "nbformat": 4,
 "nbformat_minor": 4
}
