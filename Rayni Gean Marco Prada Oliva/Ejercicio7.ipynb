{
 "cells": [
  {
   "cell_type": "markdown",
   "metadata": {},
   "source": [
    "7.- La siguiente tabla incluye informacion acerca del peso (en kg.) y la altura (en cm.) de 12 individuos"
   ]
  },
  {
   "cell_type": "markdown",
   "metadata": {},
   "source": [
    "Altura =[168,196,170,175,162,169,190,186,176,170,176,179]\n",
    "\n",
    "\n",
    "Peso =[74,92,63,72,58,78,85,85,73,62,80,72]"
   ]
  },
  {
   "cell_type": "markdown",
   "metadata": {},
   "source": [
    "* A) Determinar X y Y\n",
    "* B) Determinar el peso de un individuo a partir de su altura\n",
    "* C) Diagrama de dispersion\n",
    "* D) Analizar y comentar"
   ]
  },
  {
   "cell_type": "markdown",
   "metadata": {},
   "source": [
    "A) Determinar X y Y"
   ]
  },
  {
   "cell_type": "markdown",
   "metadata": {},
   "source": [
    "la variables X y Y son:\n",
    "    X es la altura y Y es el Peso"
   ]
  },
  {
   "cell_type": "markdown",
   "metadata": {},
   "source": [
    "B) Determinar el peso de un individuo a partir de su altura"
   ]
  },
  {
   "cell_type": "markdown",
   "metadata": {},
   "source": [
    "para determinar el peso a partir de su altura se usa la siguiente formula: \n",
    "\n",
    "\\begin{equation}\n",
    "\\frac{peso}{altura}\n",
    "\\end{equation}"
   ]
  },
  {
   "cell_type": "markdown",
   "metadata": {},
   "source": [
    "C) Diagrama de dispersion"
   ]
  },
  {
   "cell_type": "code",
   "execution_count": 3,
   "metadata": {},
   "outputs": [
    {
     "name": "stdout",
     "output_type": "stream",
     "text": [
      "La pendiente es B : 0.8770258852446424\n",
      "El intercepto es A : -80.22198325524232\n"
     ]
    },
    {
     "data": {
      "image/png": "[encoded data removed]",
      "text/plain": [
       "<Figure size 432x288 with 1 Axes>"
      ]
     },
     "metadata": {
      "needs_background": "light"
     },
     "output_type": "display_data"
    }
   ],
   "source": [
    "import numpy as np\n",
    "import matplotlib.pyplot as plt\n",
    "x=[168,196,170,175,162,169,190,186,176,170,176,179]\n",
    "y=[74,92,63,72,58,78,85,85,73,62,80,72]\n",
    "n=len(x)\n",
    "nu=len(y)\n",
    "x=np.array(x)\n",
    "y=np.array(y)\n",
    "sumx=sum(x)\n",
    "sumy=sum(y)\n",
    "promx=sumx/n\n",
    "promy=sumy/nu\n",
    "sumx2=sum(x*x)\n",
    "sumxy=sum(x*y)\n",
    "b=(sumx*sumy-n*sumxy)/(sumx**2-n*sumx2)\n",
    "a=promy-b*promx\n",
    "print(\"La pendiente es B :\" ,b)\n",
    "print(\"El intercepto es A :\",a)\n",
    "plt.plot(x,y,'o', label= 'datos')\n",
    "plt.plot(x, a+b*x, label= \"ajuste\")\n",
    "plt.xlabel('Altura')\n",
    "plt.ylabel('peso')\n",
    "plt.grid()\n",
    "plt.legend()\n",
    "plt.show()"
   ]
  },
  {
   "cell_type": "markdown",
   "metadata": {},
   "source": [
    "D) Analizar y comentar"
   ]
  },
  {
   "cell_type": "markdown",
   "metadata": {},
   "source": [
    "se ve claramente que mientras a mas altura es mas el peso que se debe de tener"
   ]
  }
 ],
 "metadata": {
  "kernelspec": {
   "display_name": "Python 3",
   "language": "python",
   "name": "python3"
  },
  "language_info": {
   "codemirror_mode": {
    "name": "ipython",
    "version": 3
   },
   "file_extension": ".py",
   "mimetype": "text/x-python",
   "name": "python",
   "nbconvert_exporter": "python",
   "pygments_lexer": "ipython3",
   "version": "3.7.4"
  }
 },
 "nbformat": 4,
 "nbformat_minor": 4
}
