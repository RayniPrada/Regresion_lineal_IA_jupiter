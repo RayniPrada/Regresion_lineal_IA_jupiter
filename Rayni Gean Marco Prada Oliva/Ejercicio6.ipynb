{
 "cells": [
  {
   "cell_type": "markdown",
   "metadata": {},
   "source": [
    "Se pide predecir el precio de una casa, basado en el area de la misma. Para lo cual se tomaron los siguientes de muestra:"
   ]
  },
  {
   "cell_type": "markdown",
   "metadata": {},
   "source": [
    "PRECIO =[3060,1600,2000,1300,2000,1956,2400,1200,1800,1248,2025,1800,1100,3000,2000]\n",
    "\n",
    "CASA AREA=[1790,1265,1345,1250,1420,1640,1460,1290,1350,1185,1600,1520,1225,2200,1410]"
   ]
  },
  {
   "cell_type": "markdown",
   "metadata": {},
   "source": [
    "* A) Se pide identificar la X y Y\n",
    "* B) Determinar a y b\n",
    "* C) Es pendiente negativa o positiva\n",
    "* D) Diagrama de dispersion\n",
    "* E) Analizar y comentar sobre la prediccion del precio"
   ]
  },
  {
   "cell_type": "markdown",
   "metadata": {},
   "source": [
    "A) Se pide identificar la X y Y"
   ]
  },
  {
   "cell_type": "markdown",
   "metadata": {},
   "source": [
    "La variables X y Y son : \n",
    "    casa Y y precio X"
   ]
  },
  {
   "cell_type": "markdown",
   "metadata": {},
   "source": [
    "B) Determinar A y B"
   ]
  },
  {
   "cell_type": "code",
   "execution_count": 8,
   "metadata": {},
   "outputs": [
    {
     "name": "stdout",
     "output_type": "stream",
     "text": [
      "La pendiente es B : 0.38523071160350714\n",
      "El intercepto es A : 731.6774838085123\n"
     ]
    }
   ],
   "source": [
    "import numpy as np\n",
    "import matplotlib.pyplot as plt\n",
    "x=[3060,1600,2000,1300,2000,1956,2400,1200,1800,1248,2025,1800,1100,3000,2000]\n",
    "y=[1790,1265,1345,1250,1420,1640,1460,1290,1350,1185,1600,1520,1225,2200,1410]\n",
    "n=len(x)\n",
    "nu=len(y)\n",
    "x=np.array(x)\n",
    "y=np.array(y)\n",
    "sumx=sum(x)\n",
    "sumy=sum(y)\n",
    "promx=sumx/n\n",
    "promy=sumy/nu\n",
    "sumx2=sum(x*x)\n",
    "sumxy=sum(x*y)\n",
    "b=(sumx*sumy-n*sumxy)/(sumx**2-n*sumx2)\n",
    "a=promy-b*promx\n",
    "print(\"La pendiente es B :\" ,b)\n",
    "print(\"El intercepto es A :\",a)"
   ]
  },
  {
   "cell_type": "markdown",
   "metadata": {},
   "source": [
    "C) es pendiente negativa o positiva"
   ]
  },
  {
   "cell_type": "markdown",
   "metadata": {},
   "source": [
    "R.- Es pendiente PositivA"
   ]
  },
  {
   "cell_type": "markdown",
   "metadata": {},
   "source": [
    "D) Diagrama de dispersion"
   ]
  },
  {
   "cell_type": "code",
   "execution_count": 9,
   "metadata": {},
   "outputs": [
    {
     "data": {
      "image/png": "[encoded data removed]",
      "text/plain": [
       "<Figure size 432x288 with 1 Axes>"
      ]
     },
     "metadata": {
      "needs_background": "light"
     },
     "output_type": "display_data"
    }
   ],
   "source": [
    "plt.plot(x,y,'o', label= 'datos')\n",
    "plt.plot(x, a+b*x, label= \"ajuste\")\n",
    "plt.xlabel('casa')\n",
    "plt.ylabel('precio')\n",
    "plt.grid()\n",
    "plt.legend()\n",
    "plt.show()"
   ]
  },
  {
   "cell_type": "markdown",
   "metadata": {},
   "source": [
    "E) Analizar y comentar sobre la prediccion del precio"
   ]
  },
  {
   "cell_type": "markdown",
   "metadata": {},
   "source": [
    "se puede evidenciar que mientras mas area tenga el precio sera mayor"
   ]
  },
  {
   "cell_type": "code",
   "execution_count": null,
   "metadata": {},
   "outputs": [],
   "source": []
  }
 ],
 "metadata": {
  "kernelspec": {
   "display_name": "Python 3",
   "language": "python",
   "name": "python3"
  },
  "language_info": {
   "codemirror_mode": {
    "name": "ipython",
    "version": 3
   },
   "file_extension": ".py",
   "mimetype": "text/x-python",
   "name": "python",
   "nbconvert_exporter": "python",
   "pygments_lexer": "ipython3",
   "version": "3.7.4"
  }
 },
 "nbformat": 4,
 "nbformat_minor": 4
}
