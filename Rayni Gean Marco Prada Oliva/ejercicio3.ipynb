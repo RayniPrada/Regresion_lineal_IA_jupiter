{
 "cells": [
  {
   "cell_type": "markdown",
   "metadata": {},
   "source": [
    "3.- Una persona se somete a una dieta de adelgazamiento durante 5 semanas. A continuacion se detalla su peso de cada una de esas semanas:"
   ]
  },
  {
   "cell_type": "markdown",
   "metadata": {},
   "source": [
    "semanas = [1,2,3,4,5]\n",
    "\n",
    "\n",
    "peso = [88,87,84,82,79]"
   ]
  },
  {
   "cell_type": "markdown",
   "metadata": {},
   "source": [
    "* A) Determinar las variables dependiente e independiente\n",
    "* B) Determinar los coeficientes A y b\n",
    "* C) Diagrama de dispersion\n",
    "* D) Ecuacion de mejor ajuste\n",
    "* E) ¿Que peso es de esperar que alcanse si sigue la dieta 2 semanas mas?"
   ]
  },
  {
   "cell_type": "markdown",
   "metadata": {},
   "source": [
    "A) Determinar las variables dependiente e independiente"
   ]
  },
  {
   "cell_type": "markdown",
   "metadata": {},
   "source": [
    "La variable X es la semana de la dieta y Y es el peso"
   ]
  },
  {
   "cell_type": "markdown",
   "metadata": {},
   "source": [
    "B) Determinar los coeficientes A y B"
   ]
  },
  {
   "cell_type": "code",
   "execution_count": 1,
   "metadata": {},
   "outputs": [
    {
     "name": "stdout",
     "output_type": "stream",
     "text": [
      "El intercepto (B) es -2.3\n",
      "La pendiente (A) es 90.9\n"
     ]
    }
   ],
   "source": [
    "import numpy as np\n",
    "import matplotlib.pyplot as plt\n",
    "x=[1,2,3,4,5]\n",
    "y=[88,87,84,82,79]\n",
    "n=len(x)\n",
    "nu=len(y)\n",
    "x=np.array(x)\n",
    "y=np.array(y)\n",
    "sumx=sum(x)\n",
    "sumy=sum(y)\n",
    "promx=sumx/n\n",
    "promy=sumy/nu\n",
    "sumx2=sum(x*x)\n",
    "sumxy=sum(x*y)\n",
    "b=(sumx*sumy-n*sumxy)/(sumx**2-n*sumx2)\n",
    "a=promy-b*promx\n",
    "print(\"El intercepto (B) es\",b)\n",
    "print(\"La pendiente (A) es\",a)"
   ]
  },
  {
   "cell_type": "markdown",
   "metadata": {},
   "source": [
    "C) Diagrama de Dispercion"
   ]
  },
  {
   "cell_type": "code",
   "execution_count": 2,
   "metadata": {},
   "outputs": [
    {
     "data": {
      "image/png": "[encoded data removed]",
      "text/plain": [
       "<Figure size 432x288 with 1 Axes>"
      ]
     },
     "metadata": {
      "needs_background": "light"
     },
     "output_type": "display_data"
    }
   ],
   "source": [
    "plt.plot(x,y,'o', label= 'datos')\n",
    "plt.plot(x, a+b*x, label= \"ajuste\")\n",
    "plt.xlabel('Semanas de dieta')\n",
    "plt.ylabel('peso en KG')\n",
    "plt.grid()\n",
    "plt.legend()\n",
    "plt.show()"
   ]
  },
  {
   "cell_type": "markdown",
   "metadata": {},
   "source": [
    "D) Ecuacion del mejor ajuste"
   ]
  },
  {
   "cell_type": "markdown",
   "metadata": {},
   "source": [
    " porque la recta es perfectamente negativa se usa la ecuacion que se ajusta  es : \n",
    "\n",
    "\\begin{equation}\n",
    "a=\\overline{Y}- b \\overline{x}\n",
    "\\end{equation}\n",
    "\n",
    "donde :\n",
    "* Y = promedio eje Y\n",
    "* b = el intercepto\n",
    "* X = Promedio eje X"
   ]
  },
  {
   "cell_type": "markdown",
   "metadata": {},
   "source": [
    "E) ¿Que peso es de esperar que alcanse si sigue la dieta 2 semanas mas?"
   ]
  },
  {
   "cell_type": "code",
   "execution_count": 8,
   "metadata": {},
   "outputs": [
    {
     "name": "stdout",
     "output_type": "stream",
     "text": [
      "para la prediccion se debe de conocer los promedios de Y y X para la prediccion\n",
      "Y  84.0\n",
      "x  3.0\n",
      "ahora predicimos\n",
      "prediccion 2 semanas  74.8\n"
     ]
    }
   ],
   "source": [
    "print(\"para la prediccion se debe de conocer los promedios de Y y X para la prediccion\")\n",
    "print( \"Y \", promy)\n",
    "print(\"x \",promx)\n",
    "print(\"ahora predicimos\")\n",
    "print(\"prediccion 2 semanas \",promy-b*(promx-7))\n"
   ]
  },
  {
   "cell_type": "markdown",
   "metadata": {},
   "source": [
    "para la prediccion se tomo los 5 meses que tenia y nas los 2 meses hace que sea de 7 meses\n",
    "y en dos 2 semanas estaria con un peso de 74.8"
   ]
  },
  {
   "cell_type": "code",
   "execution_count": null,
   "metadata": {},
   "outputs": [],
   "source": []
  }
 ],
 "metadata": {
  "kernelspec": {
   "display_name": "Python 3",
   "language": "python",
   "name": "python3"
  },
  "language_info": {
   "codemirror_mode": {
    "name": "ipython",
    "version": 3
   },
   "file_extension": ".py",
   "mimetype": "text/x-python",
   "name": "python",
   "nbconvert_exporter": "python",
   "pygments_lexer": "ipython3",
   "version": "3.7.4"
  }
 },
 "nbformat": 4,
 "nbformat_minor": 4
}
