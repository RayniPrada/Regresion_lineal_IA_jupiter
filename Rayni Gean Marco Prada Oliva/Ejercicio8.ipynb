{
 "cells": [
  {
   "cell_type": "markdown",
   "metadata": {},
   "source": [
    "8.- De acuerdo a la siguiente tabla, predecir el salario de un trabajador en base a los años de experiencia"
   ]
  },
  {
   "cell_type": "markdown",
   "metadata": {},
   "source": [
    "Años de experiencia =[1.1,1.3,1.5,2,2.2,2.9,3,3.2,3.2,3.7]\n",
    "\n",
    "Salario =[39.343,46.205,37.731,43.525,39.891,56.642,60.150,54.445,64.445,57.189]"
   ]
  },
  {
   "cell_type": "markdown",
   "metadata": {},
   "source": [
    "* A) Determine X y Y\n",
    "* B) Diagrama de dispersion\n",
    "* C) Ecuacion de mejor ajuste\n",
    "* D) Estime el salario de un trabajador con un 4 y 5 años de experiencia\n",
    "* E) Analizar y comentar"
   ]
  },
  {
   "cell_type": "markdown",
   "metadata": {},
   "source": [
    "A) Determine X y Y"
   ]
  },
  {
   "cell_type": "markdown",
   "metadata": {},
   "source": [
    "los valores X y Y son :\n",
    "    X años de experiencia y Y salario"
   ]
  },
  {
   "cell_type": "markdown",
   "metadata": {},
   "source": [
    "B) Diagrama de Dispersion"
   ]
  },
  {
   "cell_type": "code",
   "execution_count": 5,
   "metadata": {},
   "outputs": [
    {
     "name": "stdout",
     "output_type": "stream",
     "text": [
      "La pendiente es B : 9.020635598878371\n",
      "El intercepto es A : 28.21686820670312\n"
     ]
    },
    {
     "data": {
      "image/png": "[encoded data removed]",
      "text/plain": [
       "<Figure size 432x288 with 1 Axes>"
      ]
     },
     "metadata": {
      "needs_background": "light"
     },
     "output_type": "display_data"
    }
   ],
   "source": [
    "import numpy as np\n",
    "import matplotlib.pyplot as plt\n",
    "x=[1.1,1.3,1.5,2,2.2,2.9,3,3.2,3.2,3.7]\n",
    "y=[39.343,46.205,37.731,43.525,39.891,56.642,60.150,54.445,64.445,57.189]\n",
    "n=len(x)\n",
    "nu=len(y)\n",
    "x=np.array(x)\n",
    "y=np.array(y)\n",
    "sumx=sum(x)\n",
    "sumy=sum(y)\n",
    "promx=sumx/n\n",
    "promy=sumy/nu\n",
    "sumx2=sum(x*x)\n",
    "sumxy=sum(x*y)\n",
    "b=(sumx*sumy-n*sumxy)/(sumx**2-n*sumx2)\n",
    "a=promy-b*promx\n",
    "print(\"La pendiente es B :\" ,b)\n",
    "print(\"El intercepto es A :\",a)\n",
    "plt.plot(x,y,'o', label= 'datos')\n",
    "plt.plot(x, a+b*x, label= \"ajuste\")\n",
    "plt.xlabel('Años de experiencia')\n",
    "plt.ylabel('Salario')\n",
    "plt.grid()\n",
    "plt.legend()\n",
    "plt.show()"
   ]
  },
  {
   "cell_type": "markdown",
   "metadata": {},
   "source": [
    "C) Ecuacion mejor ajuste"
   ]
  },
  {
   "cell_type": "markdown",
   "metadata": {},
   "source": [
    " porque la recta es perfectamente positiva se usa la ecuacion que se ajusta  es : \n",
    "\n",
    "\\begin{equation}\n",
    "y= a+bX\n",
    "\\end{equation}\n",
    "\n",
    "donde :\n",
    "* a = intercepto\n",
    "* b = pendiente"
   ]
  },
  {
   "cell_type": "markdown",
   "metadata": {},
   "source": [
    "D) Estime el salario de un trabajador con un 4 y 5 años de experiencia\n"
   ]
  },
  {
   "cell_type": "code",
   "execution_count": 7,
   "metadata": {},
   "outputs": [
    {
     "name": "stdout",
     "output_type": "stream",
     "text": [
      "salario de 4 años  64.2994106022166\n",
      "salario de 5 años  73.32004620109498\n"
     ]
    }
   ],
   "source": [
    "print(\"salario de 4 años \", a+b*4)\n",
    "print(\"salario de 5 años \", a+b*5)\n"
   ]
  },
  {
   "cell_type": "markdown",
   "metadata": {},
   "source": [
    "E) Analizar y comentar"
   ]
  },
  {
   "cell_type": "markdown",
   "metadata": {},
   "source": [
    "como se puede ver mientras mas años de experiencia tendra mayor sueldo con un salto de 9"
   ]
  }
 ],
 "metadata": {
  "kernelspec": {
   "display_name": "Python 3",
   "language": "python",
   "name": "python3"
  },
  "language_info": {
   "codemirror_mode": {
    "name": "ipython",
    "version": 3
   },
   "file_extension": ".py",
   "mimetype": "text/x-python",
   "name": "python",
   "nbconvert_exporter": "python",
   "pygments_lexer": "ipython3",
   "version": "3.7.4"
  }
 },
 "nbformat": 4,
 "nbformat_minor": 4
}
