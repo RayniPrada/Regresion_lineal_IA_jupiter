{
 "cells": [
  {
   "cell_type": "markdown",
   "metadata": {},
   "source": [
    "2.- El numero de horas dedicadas al estudio de una asignatura y calificacion obtenida en el examen correspondiente de cinco personas es :"
   ]
  },
  {
   "cell_type": "markdown",
   "metadata": {},
   "source": [
    "Horas de Estudio = [20,16,34,10,23]\n",
    "\n",
    "Calificacion de Examen = [6.5,6,8,4,7]"
   ]
  },
  {
   "cell_type": "markdown",
   "metadata": {},
   "source": [
    " * A) Diagrama de dispersion\n",
    " * B) Calcular la recta de regresion de Y sobre X\n",
    " * C) Calcular la calificacion estimada para una persona que hubiese estudiado 28 horas\n",
    " * D) Comentar y concluir"
   ]
  },
  {
   "cell_type": "markdown",
   "metadata": {},
   "source": [
    "A) Diagrama de dispersion"
   ]
  },
  {
   "cell_type": "code",
   "execution_count": 2,
   "metadata": {},
   "outputs": [
    {
     "data": {
      "image/png": "[encoded data removed]",
      "text/plain": [
       "<Figure size 432x288 with 1 Axes>"
      ]
     },
     "metadata": {
      "needs_background": "light"
     },
     "output_type": "display_data"
    }
   ],
   "source": [
    "import numpy as np\n",
    "import matplotlib.pyplot as plt\n",
    "x=[20,16,34,10,23]\n",
    "y=[6.5,6,8,4,7]\n",
    "plt.plot(x,y, 'o')\n",
    "plt.ylabel(\"Calificacion examen\")\n",
    "plt.xlabel(\"Horas de estudio\")\n",
    "plt.show()"
   ]
  },
  {
   "cell_type": "markdown",
   "metadata": {},
   "source": [
    "B) Calcular la recta de regresion de Y sobre X"
   ]
  },
  {
   "cell_type": "code",
   "execution_count": 3,
   "metadata": {},
   "outputs": [
    {
     "data": {
      "image/png": "[encoded data removed]",
      "text/plain": [
       "<Figure size 432x288 with 1 Axes>"
      ]
     },
     "metadata": {
      "needs_background": "light"
     },
     "output_type": "display_data"
    }
   ],
   "source": [
    "n=len(x)\n",
    "nu=len(y)\n",
    "x=np.array(x)\n",
    "y=np.array(y)\n",
    "sumx=sum(x)\n",
    "sumy=sum(y)\n",
    "promx=sumx/n\n",
    "promy=sumy/nu\n",
    "sumx2=sum(x*x)\n",
    "sumxy=sum(x*y)\n",
    "pen=(sumx*sumy-n*sumxy)/(sumx**2-n*sumx2)\n",
    "inter=promy-pen*promx\n",
    "plt.plot(x,y,'o', label= 'datos')\n",
    "plt.plot(x, inter+pen*x, label= \"ajuste\")\n",
    "plt.xlabel('horas de estudio')\n",
    "plt.ylabel('calificacion examen')\n",
    "plt.grid()\n",
    "plt.legend()\n",
    "plt.show()"
   ]
  },
  {
   "cell_type": "markdown",
   "metadata": {},
   "source": [
    " C) Calcular la calificacion estimada para una persona que hubiese estudiado 28 horas"
   ]
  },
  {
   "cell_type": "code",
   "execution_count": 4,
   "metadata": {},
   "outputs": [
    {
     "name": "stdout",
     "output_type": "stream",
     "text": [
      "El pendiente es =  0.15695488721804512\n",
      "La intercepto es =  3.06672932330827\n"
     ]
    }
   ],
   "source": [
    "print(\"El pendiente es = \",pen)\n",
    "print(\"La intercepto es = \",inter)"
   ]
  },
  {
   "cell_type": "markdown",
   "metadata": {},
   "source": [
    "sabiendo eso ya podemos predecir cuanto de calificacion obtendra"
   ]
  },
  {
   "cell_type": "code",
   "execution_count": 8,
   "metadata": {},
   "outputs": [
    {
     "data": {
      "text/plain": [
       "7.461466165413533"
      ]
     },
     "execution_count": 8,
     "metadata": {},
     "output_type": "execute_result"
    }
   ],
   "source": [
    "inter+pen*28"
   ]
  },
  {
   "cell_type": "markdown",
   "metadata": {},
   "source": [
    "la calificacion que obtendra estudiando 28 horas es de 7.4 puntos"
   ]
  },
  {
   "cell_type": "markdown",
   "metadata": {},
   "source": [
    "D) comentar y concluir"
   ]
  },
  {
   "cell_type": "markdown",
   "metadata": {},
   "source": [
    "si realizamos mas predicciones"
   ]
  },
  {
   "cell_type": "code",
   "execution_count": 6,
   "metadata": {},
   "outputs": [
    {
     "name": "stdout",
     "output_type": "stream",
     "text": [
      "prediccion 1  3.223684210526315\n",
      "prediccion 2  3.38063909774436\n",
      "prediccion 3  3.537593984962405\n"
     ]
    }
   ],
   "source": [
    "print(\"prediccion 1 \",inter+pen*1)\n",
    "print(\"prediccion 2 \",inter+pen*2)\n",
    "print(\"prediccion 3 \",inter+pen*3)"
   ]
  },
  {
   "cell_type": "markdown",
   "metadata": {},
   "source": [
    "se puede evidenciar por cada hora de estudio aumentra dos decimas de puntos"
   ]
  },
  {
   "cell_type": "markdown",
   "metadata": {},
   "source": [
    "en conclusion se puede decir que se debe de estudiar mas para que el rendimiento en el examen sea mas"
   ]
  },
  {
   "cell_type": "code",
   "execution_count": null,
   "metadata": {},
   "outputs": [],
   "source": []
  }
 ],
 "metadata": {
  "kernelspec": {
   "display_name": "Python 3",
   "language": "python",
   "name": "python3"
  },
  "language_info": {
   "codemirror_mode": {
    "name": "ipython",
    "version": 3
   },
   "file_extension": ".py",
   "mimetype": "text/x-python",
   "name": "python",
   "nbconvert_exporter": "python",
   "pygments_lexer": "ipython3",
   "version": "3.7.4"
  }
 },
 "nbformat": 4,
 "nbformat_minor": 4
}
