{
 "cells": [
  {
   "cell_type": "markdown",
   "metadata": {},
   "source": [
    "4.- Los datos de la produccion de trigo de la empresa agricola TRIGORI en toneladas y en precio kilo de harina en bolivianos en la año 2018 en Bolivia fueron :"
   ]
  },
  {
   "cell_type": "markdown",
   "metadata": {},
   "source": [
    "<center>\n",
    "Produccion Trigo =[30,28,32,25,25,25,22,24,35,40]\n",
    "<center>\n",
    "precio harina =[25,30,27,40,42,40,50,45,30,25]"
   ]
  },
  {
   "cell_type": "markdown",
   "metadata": {},
   "source": [
    "* A) Determinar X y Y\n",
    "* B) Ecuacion de la recta\n",
    "* C) Diagrama de dispercion\n",
    "* D) Determinar si la pendiente es positiva o negativa\n",
    "* E) Analizar y comentar"
   ]
  },
  {
   "cell_type": "markdown",
   "metadata": {},
   "source": [
    "A) Determinar X y Y"
   ]
  },
  {
   "cell_type": "markdown",
   "metadata": {},
   "source": [
    "La variable X es la produccion de trigo y Y precio de la haria ya que el precio de la harina depende de cuanto se producira el trigo"
   ]
  },
  {
   "cell_type": "markdown",
   "metadata": {},
   "source": [
    "B) Ecuacion de la recta"
   ]
  },
  {
   "cell_type": "markdown",
   "metadata": {},
   "source": [
    "para sacar la recta se necesita tener los datos del intercepto a y la pendiente b\n",
    "\\begin{equation}\n",
    "b =\n",
    "\\frac{\\sum_{i=1}^n x_{i} y_{i}- \\hat n \\sum_{i=1}^n x y}{(\\sum_{i=1}^n x_{i}^2 -\\hat n \\sum_{i=1}^n x^2}\\end{equation}\n",
    "\n",
    "\\begin{equation}\n",
    "a = promY-b*promX\n",
    "\\end{equation}\n",
    "Ecuacion de la Recta\n",
    "\\begin{equation}\n",
    "y = a + bX\n",
    "\\end{equation}"
   ]
  },
  {
   "cell_type": "markdown",
   "metadata": {},
   "source": [
    "C) Diagrama de dispersion"
   ]
  },
  {
   "cell_type": "code",
   "execution_count": 5,
   "metadata": {},
   "outputs": [
    {
     "data": {
      "image/png": "[encoded data removed]",
      "text/plain": [
       "<Figure size 432x288 with 1 Axes>"
      ]
     },
     "metadata": {
      "needs_background": "light"
     },
     "output_type": "display_data"
    }
   ],
   "source": [
    "plt.plot(x,y, 'o')\n",
    "plt.xlabel('produccion de trigo')\n",
    "plt.ylabel('precio harina')\n",
    "plt.show()\n"
   ]
  },
  {
   "cell_type": "markdown",
   "metadata": {},
   "source": [
    "D) Determinar si la pendiente es negativa o positiva"
   ]
  },
  {
   "cell_type": "code",
   "execution_count": 6,
   "metadata": {},
   "outputs": [
    {
     "data": {
      "image/png": "[encoded data removed]",
      "text/plain": [
       "<Figure size 432x288 with 1 Axes>"
      ]
     },
     "metadata": {
      "needs_background": "light"
     },
     "output_type": "display_data"
    }
   ],
   "source": [
    "import numpy as np\n",
    "import matplotlib.pyplot as plt\n",
    "x=[30,28,32,25,25,25,22,24,35,40]\n",
    "y=[25,30,27,40,42,40,50,45,30,25]\n",
    "n=len(x)\n",
    "nu=len(y)\n",
    "x=np.array(x)\n",
    "y=np.array(y)\n",
    "sumx=sum(x)\n",
    "sumy=sum(y)\n",
    "promx=sumx/n\n",
    "promy=sumy/nu\n",
    "sumx2=sum(x*x)\n",
    "sumxy=sum(x*y)\n",
    "b=(sumx*sumy-n*sumxy)/(sumx**2-n*sumx2)\n",
    "a=promy-b*promx\n",
    "plt.plot(x,y,'o', label= 'datos')\n",
    "plt.plot(x, a+b*x, label= \"ajuste\")\n",
    "plt.xlabel('produccion de trigo')\n",
    "plt.ylabel('precio harina')\n",
    "plt.grid()\n",
    "plt.legend()\n",
    "plt.show()"
   ]
  },
  {
   "cell_type": "markdown",
   "metadata": {},
   "source": [
    "claramente se puede ver que la pendiente es negativa"
   ]
  },
  {
   "cell_type": "markdown",
   "metadata": {},
   "source": [
    "E) Analizar y comentar"
   ]
  },
  {
   "cell_type": "markdown",
   "metadata": {},
   "source": [
    "se puede ver que a mas produccion del trigo el precio de la harina ira bajando"
   ]
  },
  {
   "cell_type": "code",
   "execution_count": null,
   "metadata": {},
   "outputs": [],
   "source": []
  }
 ],
 "metadata": {
  "kernelspec": {
   "display_name": "Python 3",
   "language": "python",
   "name": "python3"
  },
  "language_info": {
   "codemirror_mode": {
    "name": "ipython",
    "version": 3
   },
   "file_extension": ".py",
   "mimetype": "text/x-python",
   "name": "python",
   "nbconvert_exporter": "python",
   "pygments_lexer": "ipython3",
   "version": "3.7.4"
  }
 },
 "nbformat": 4,
 "nbformat_minor": 4
}
